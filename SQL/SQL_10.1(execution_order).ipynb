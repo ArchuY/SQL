{
 "cells": [
  {
   "cell_type": "markdown",
   "id": "bc610bcd",
   "metadata": {},
   "source": [
    "# Order of execution of query\n",
    "\n",
    "Parts of queries are executed in a particular order, this order is dicussed in detail below"
   ]
  },
  {
   "cell_type": "markdown",
   "id": "c82e63ef",
   "metadata": {},
   "source": [
    "``` sql\n",
    "SELECT DISTINCT col_name, AGGREGATE_FUNCTION(col_name), …\n",
    "FROM table_name \n",
    "JOIN other_table ON table_name.col_name = other_table.col_name\n",
    "WHERE constraint_expression \n",
    "GROUP BY col_name \n",
    "HAVING constraint_expression\n",
    "ORDER BY col_name ASC/DESC\n",
    "LIMIT number1 OFFSET number2;\n",
    "```"
   ]
  },
  {
   "cell_type": "markdown",
   "id": "5cb40f52",
   "metadata": {},
   "source": [
    "### 1- FROM and JOIN\n",
    "\n",
    "Temporary tables are created when FROM clause and JOIN statement are first executed to decide the total values in rows and columns used in query.  \n",
    "\n",
    "### 2. WHERE\n",
    "Then WHERE condition is executed to select the rows (of the tables selected by FROM clause) which staisfy the condition. \n",
    "\n",
    "### 3. GROUP BY\n",
    "Then grouping is done based on the column specified in the GROUP BY clause. So there will only be as many rows as there are unique values in that column. It means that we need to use this when we have aggregate functions in our query. \n",
    "\n",
    "### 4. HAVING\n",
    "Conditions in the HAVING clause are then applied to the grouped rows and remaining rows that don't satisfy the constraint are removed.\n",
    "\n",
    "### 5. SELECT\n",
    "SELECT query is then executed.\n",
    "\n",
    "### 6. DISTINCT\n",
    "DISTINCT will then be used to get rows with distinct/unique values.\n",
    "\n",
    "### 7. ORDER BY\n",
    "ORDER BY clause is then used to sort the rows in either ascending or descending order. *Since all the expressions in the SELECT part of the query have been computed, you can reference aliases in this clause.*\n",
    "\n",
    "### 8. LIMIT / OFFSET\n",
    "Finally, the rows that fall inside the range specified by the LIMIT and OFFSET are kept and all the other rows are removed."
   ]
  },
  {
   "cell_type": "markdown",
   "id": "1064c556",
   "metadata": {},
   "source": [
    "# Theory Questions:"
   ]
  },
  {
   "cell_type": "markdown",
   "id": "9db613cd",
   "metadata": {},
   "source": [
    "1. What is the primary purpose of the FROM clause, and why is it executed first in the sequence?\n",
    "\n",
    "2. Why is it essential to understand the order of execution when writing complex SQL queries?\n",
    "\n",
    "3. Explain the difference between the WHERE clause and the HAVING clause in terms of their placement in the execution order and their purposes.\n",
    "\n",
    "4. How does the JOIN operation fit into the sequence, and what temporary results are produced as a result?\n",
    "\n",
    "5. In the context of the order of execution, why can't you use column aliases (created in the SELECT clause) within the WHERE clause?\n",
    "\n",
    "6. Why is the GROUP BY clause executed before the HAVING clause, and what is the significance of this sequence in aggregate operations?\n",
    "\n",
    "7. How does the DISTINCT keyword affect the result set after the SELECT operation, and why is it essential to consider its position in the order of execution?\n",
    "\n",
    "8. Discuss the interplay between ORDER BY and LIMIT/OFFSET. Why does it make sense for ORDER BY to be executed before limiting the result set?\n",
    "\n",
    "9. If a query has both WHERE and HAVING clauses, how would their execution order impact the results?\n",
    "\n",
    "10. Explain the significance of the LIMIT/OFFSET in the context of pagination. Why is it executed last in the sequence?"
   ]
  },
  {
   "cell_type": "markdown",
   "id": "6b466a93",
   "metadata": {},
   "source": [
    "Table : Products\n",
    "\n",
    "Column names: order_id\t,product_id\t,customer_id\t,order_date\t,quantity\t,price_per_unit"
   ]
  },
  {
   "cell_type": "markdown",
   "id": "e6ebd523",
   "metadata": {},
   "source": [
    "# Questions:"
   ]
  },
  {
   "cell_type": "markdown",
   "id": "1db47493",
   "metadata": {},
   "source": [
    "1. List all unique products (product_id) that have been ordered by customer_id 1001.\n",
    "\n",
    "2. Find the total expenditure of customer_id 1002 on all products.\n",
    "\n",
    "3. Identify the top 3 expensive products (by unit price) ordered after '2022-01-01'.\n",
    "\n",
    "4. Find the total number of orders placed for each product after '2022-01-01', but only include products that have more than 5 orders.\n",
    "\n",
    "5. For each customer, calculate their average spending per order, but only include customers who've spent more than $100 in total. Order the result by average spending in descending order and limit the result to 10 customers.\n",
    "\n",
    "6. Determine the product with the highest total sales revenue.\n",
    "\n",
    "7. Find the date on which the highest number of unique products were ordered.\n"
   ]
  },
  {
   "cell_type": "code",
   "execution_count": null,
   "id": "e7b4bc08",
   "metadata": {},
   "outputs": [],
   "source": []
  }
 ],
 "metadata": {
  "kernelspec": {
   "display_name": "Python 3 (ipykernel)",
   "language": "python",
   "name": "python3"
  },
  "language_info": {
   "codemirror_mode": {
    "name": "ipython",
    "version": 3
   },
   "file_extension": ".py",
   "mimetype": "text/x-python",
   "name": "python",
   "nbconvert_exporter": "python",
   "pygments_lexer": "ipython3",
   "version": "3.11.5"
  }
 },
 "nbformat": 4,
 "nbformat_minor": 5
}
