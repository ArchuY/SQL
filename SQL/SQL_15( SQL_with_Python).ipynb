{
 "cells": [
  {
   "cell_type": "markdown",
   "id": "cbca0404",
   "metadata": {},
   "source": [
    "# School database project\n",
    "\n",
    "\n",
    "SQL is a language which is designed in such a way that it helps you join(merge) several tables together. However it is not prefered to use in data manipulation, Exploratory Data Analysis(EDA). For that we need some more powerful language such as python. Because python has many libraries like `numpy`, `scipy`, `pandas`, `matplotlib`, which helps you explore data, do statistical analysis and plot the data.\n",
    "\n",
    "So in this lesson we will see how can we connect SQL with python language. using **MYSQL connector**. We are using this because it is free and easy to use. Let's dive into it.\n",
    "\n",
    "## Libraries\n",
    "To install mysql connector in your anaconda environment execute the following command in your jupyter notebook cell.\n",
    "\n",
    "``` python\n",
    "    !pip install mysql-connector-python \n",
    "```\n",
    "\n",
    "As in every python project, the first thing we do is import all the required libraries. So let's import all the libraries as given below."
   ]
  },
  {
   "cell_type": "code",
   "execution_count": 9,
   "id": "9c0f27f5",
   "metadata": {},
   "outputs": [],
   "source": [
    "import mysql.connector\n",
    "from mysql.connector import Error\n",
    "import pandas as pd"
   ]
  },
  {
   "cell_type": "code",
   "execution_count": 10,
   "id": "f8b615e4",
   "metadata": {},
   "outputs": [],
   "source": [
    "def create_server_connection(host_name, user_name, user_password):\n",
    "    connection = None\n",
    "    try:\n",
    "        connection = mysql.connector.connect(\n",
    "            host=host_name,\n",
    "            user=user_name,\n",
    "            passwd=user_password\n",
    "        )\n",
    "        print(\"MySQL Database connection successful\")\n",
    "    except Error as err:\n",
    "        print(f\"Error: '{err}'\")\n",
    "\n",
    "    return connection"
   ]
  },
  {
   "cell_type": "markdown",
   "id": "82e4be38",
   "metadata": {},
   "source": [
    "In above code we are creating a function named `create_server_connection` which is taking 3 arguments :\n",
    "\n",
    "- `host_name`: MySQL server has a host name which is usually localhost.\n",
    "- `user_name`: Similarly host name MYSQL server has username mostly it is root.\n",
    "- `user_password`: user_password is a database password which adds an layer of security to your MYSQL database.\n",
    "\n",
    "In this function we are using `try-except` concept which you must have learnt in our python course. We want to connect to the MYSQL server for that we are using the `mysql.connector.connect()`, if the connection is successfully created the function will return a `connection` object.\n",
    "\n",
    "You can use this function can be used in future projects too."
   ]
  },
  {
   "cell_type": "code",
   "execution_count": 11,
   "id": "58d27659",
   "metadata": {},
   "outputs": [
    {
     "name": "stdout",
     "output_type": "stream",
     "text": [
      "MySQL Database connection successful\n"
     ]
    }
   ],
   "source": [
    "connection = create_server_connection(\"localhost\", \"root\", \"1234\")"
   ]
  },
  {
   "cell_type": "markdown",
   "id": "f5df6099",
   "metadata": {},
   "source": [
    "## Creating a Database\n",
    "\n"
   ]
  },
  {
   "cell_type": "code",
   "execution_count": 12,
   "id": "aec833c1",
   "metadata": {},
   "outputs": [],
   "source": [
    "def create_database(connection, query):\n",
    "    cursor = connection.cursor()\n",
    "    try:\n",
    "        cursor.execute(query)\n",
    "        print(\"Database created successfully\")\n",
    "    except Error as err:\n",
    "        print(f\"Error: '{err}'\")"
   ]
  },
  {
   "cell_type": "markdown",
   "id": "17d7ddd1",
   "metadata": {},
   "source": [
    "In above code we have defined a function named `create_database` which will take two arguments:\n",
    "\n",
    "- `connection`: It is a connection object we will get from the `create_server_connection()` function.\n",
    "- `query`: It is a SQL query which will be passed in the function call given below.\n",
    "\n",
    "We use the `cursor method` on our `connection object` to create a `cursor object`. `MYSQL Connector` uses OOPs concepts there are going to many objects and methods used in this lesson.\n",
    "\n",
    "\n",
    "Imagine this cursor method as the cursor we get in the MYSQL command line as shown below:\n",
    "![](images/mysql_cursor.png)"
   ]
  },
  {
   "cell_type": "code",
   "execution_count": 13,
   "id": "9695e40b",
   "metadata": {},
   "outputs": [
    {
     "name": "stdout",
     "output_type": "stream",
     "text": [
      "Error: '1007 (HY000): Can't create database 'company'; database exists'\n"
     ]
    }
   ],
   "source": [
    "create_database_query = 'CREATE DATABASE company'\n",
    "create_database(connection, create_database_query)"
   ]
  },
  {
   "cell_type": "markdown",
   "id": "fc8955c0",
   "metadata": {},
   "source": [
    "## Connecting to the Database"
   ]
  },
  {
   "cell_type": "code",
   "execution_count": 14,
   "id": "244c60cd",
   "metadata": {},
   "outputs": [],
   "source": [
    "def create_db_connection(host_name, user_name, user_password, db_name):\n",
    "    connection = None\n",
    "    try:\n",
    "        connection = mysql.connector.connect(\n",
    "            host=host_name,\n",
    "            user=user_name,\n",
    "            passwd=user_password,\n",
    "            database=db_name\n",
    "        )\n",
    "        print(\"MySQL Database connection successful\")\n",
    "    except Error as err:\n",
    "        print(f\"Error: '{err}'\")\n",
    "\n",
    "    return connection"
   ]
  },
  {
   "cell_type": "markdown",
   "id": "8095939d",
   "metadata": {},
   "source": [
    "The function which we have written above named `create_db_connection` is same as the function which we have used in `create_server_connection` function with just one extra agrument that is `db_name`. The function makes a conncetion with the database whose name you have provided in the function call. "
   ]
  },
  {
   "cell_type": "code",
   "execution_count": 15,
   "id": "41157536",
   "metadata": {},
   "outputs": [],
   "source": [
    "def execute_query(connection, query):\n",
    "    cursor = connection.cursor()\n",
    "    try:\n",
    "        cursor.execute(query)\n",
    "        connection.commit()\n",
    "        print(\"Query successful\")\n",
    "    except Error as err:\n",
    "        print(f\"Error: '{err}'\")"
   ]
  },
  {
   "cell_type": "markdown",
   "id": "4b8683cf",
   "metadata": {},
   "source": [
    "`execute_query` function is going to be our primary function for many operations which we will do ahead in the chapter, like creating tables, establish relationships between those tables, populate tables etc."
   ]
  },
  {
   "cell_type": "markdown",
   "id": "74c5eba9",
   "metadata": {},
   "source": [
    "## Creating Tables\n",
    "\n",
    "Now we have created all the python functions which will be required for this chapter. We will now move to the SQL part of wrting SQL queries. So let's begin by creating our first table of employees. "
   ]
  },
  {
   "cell_type": "code",
   "execution_count": 16,
   "id": "15265424",
   "metadata": {},
   "outputs": [
    {
     "name": "stdout",
     "output_type": "stream",
     "text": [
      "MySQL Database connection successful\n",
      "Error: '1050 (42S01): Table 'employees' already exists'\n"
     ]
    }
   ],
   "source": [
    "create_employees_table = \"\"\"\n",
    "CREATE TABLE employees (\n",
    "    emp_no INT(11) NOT NULL AUTO_INCREMENT,\n",
    "    first_name VARCHAR(15) NOT NULL,\n",
    "    last_name VARCHAR(15) NOT NULL,\n",
    "    hire_date VARCHAR(15) NOT NULL,\n",
    "    gender ENUM('M','F') NOT NULL,\n",
    "    birth_date VARCHAR(15) NOT NULL,\n",
    "    PRIMARY KEY (emp_no)\n",
    "    );\n",
    "\"\"\"\n",
    "\n",
    "connection = create_db_connection(\"localhost\", \"root\", '1234', 'company') # Connect to the Database\n",
    "execute_query(connection, create_employees_table) # Execute our defined query"
   ]
  },
  {
   "cell_type": "markdown",
   "id": "5a653e9c",
   "metadata": {},
   "source": [
    "First of all we assign our SQL command to a variable with an appropriate name.\n",
    "\n",
    "In this case we use Python's triple quote notation for multi-line strings to store our SQL query, then we feed it into our execute_query function to implement it.\n",
    "\n",
    "Note that this multi-line formatting is purely for the benefit of humans reading our code. Neither SQL nor Python 'care' if the SQL command is spread out like this. So long as the syntax is correct, both languages will accept it.\n",
    "\n",
    "Running the above code gives us our success messages. We can also verify this in the MySQL Server Command Line Client:\n",
    "\n",
    "![](images/mysql_show_table.png)\n",
    "\n",
    "Great! Now let's create rest of the tables."
   ]
  },
  {
   "cell_type": "code",
   "execution_count": 17,
   "id": "da6dbe48",
   "metadata": {},
   "outputs": [
    {
     "name": "stdout",
     "output_type": "stream",
     "text": [
      "MySQL Database connection successful\n",
      "Query successful\n",
      "Query successful\n"
     ]
    }
   ],
   "source": [
    "create_departments_table = \"\"\"\n",
    "CREATE TABLE departments (\n",
    "    dept_no VARCHAR(10) NOT NULL,\n",
    "    dept_name VARCHAR(40) NOT NULL,\n",
    "    PRIMARY KEY (dept_no), \n",
    "    UNIQUE KEY dept_name(dept_name)\n",
    "    );\n",
    "\"\"\"\n",
    "create_salaries_table = \"\"\"\n",
    "CREATE TABLE salaries (\n",
    "    emp_no INT(11) NOT NULL,\n",
    "    salary INT(11) NOT NULL,\n",
    "    from_date VARCHAR(15) NOT NULL,\n",
    "    to_date VARCHAR(15) NOT NULL,\n",
    "    PRIMARY KEY (emp_no,from_date), \n",
    "    KEY emp_no (emp_no),\n",
    "    CONSTRAINT salaries_ibfk_1 FOREIGN KEY (emp_no)\n",
    "        REFERENCES employees (emp_no) ON DELETE CASCADE\n",
    "    );\n",
    "\"\"\"\n",
    "\n",
    "connection = create_db_connection(\"localhost\", \"root\", '1234', 'company')\n",
    "execute_query(connection, create_departments_table)\n",
    "execute_query(connection, create_salaries_table)"
   ]
  },
  {
   "cell_type": "code",
   "execution_count": 18,
   "id": "f3b74651",
   "metadata": {},
   "outputs": [
    {
     "name": "stdout",
     "output_type": "stream",
     "text": [
      "MySQL Database connection successful\n",
      "Query successful\n",
      "Query successful\n",
      "Query successful\n"
     ]
    }
   ],
   "source": [
    "create_deptemp_table = \"\"\"\n",
    "CREATE TABLE dept_emp (\n",
    "    emp_no INT(11) NOT NULL,\n",
    "    dept_no VARCHAR(10) NOT NULL,\n",
    "    from_date VARCHAR(15) NOT NULL,\n",
    "    to_date VARCHAR(15) NOT NULL,\n",
    "    PRIMARY KEY (emp_no, dept_no), \n",
    "    KEY emp_no (emp_no),\n",
    "    KEY dept_no (dept_no),\n",
    "    CONSTRAINT dept_emp_ibfk_1 FOREIGN KEY (emp_no)\n",
    "        REFERENCES employees (emp_no) ON DELETE CASCADE,\n",
    "    CONSTRAINT dept_emp_ibfk_2 FOREIGN KEY (dept_no)\n",
    "        REFERENCES departments (dept_no) ON DELETE CASCADE\n",
    ");\n",
    "\"\"\"\n",
    "\n",
    "create_dept_manager_table = \"\"\"\n",
    "CREATE TABLE dept_manager (\n",
    "    emp_no INT(11) NOT NULL,\n",
    "    dept_no VARCHAR(10) NOT NULL,\n",
    "    from_date VARCHAR(15) NOT NULL,\n",
    "    to_date VARCHAR(15) NOT NULL,\n",
    "    PRIMARY KEY (emp_no, dept_no),\n",
    "    KEY emp_no (emp_no),\n",
    "    KEY dept_no (dept_no),\n",
    "    CONSTRAINT dept_manager_ibfk_1 FOREIGN KEY (emp_no) \n",
    "        REFERENCES employees (emp_no) ON DELETE CASCADE,\n",
    "    CONSTRAINT dept_manager_ibfk_2 FOREIGN KEY (dept_no)\n",
    "        REFERENCES departments (dept_no) ON DELETE CASCADE\n",
    "    );\n",
    "\"\"\"\n",
    "\n",
    "create_titles_table =\"\"\"\n",
    "CREATE TABLE titles (\n",
    "    emp_no INT(11) NOT NULL,\n",
    "    title VARCHAR(50) NOT NULL,\n",
    "    from_date VARCHAR(15) NOT NULL,\n",
    "    to_date VARCHAR(15) DEFAULT NULL,\n",
    "    PRIMARY KEY (emp_no,title,from_date), KEY emp_no (emp_no),\n",
    "    CONSTRAINT titles_ibfk_1 FOREIGN KEY (emp_no)\n",
    "        REFERENCES employees (emp_no) ON DELETE CASCADE\n",
    "    );\n",
    "\"\"\"\n",
    "\n",
    "connection = create_db_connection(\"localhost\", \"root\", '1234', 'company')\n",
    "execute_query(connection, create_deptemp_table)\n",
    "execute_query(connection, create_dept_manager_table)\n",
    "execute_query(connection, create_titles_table)"
   ]
  },
  {
   "cell_type": "markdown",
   "id": "1fece42c",
   "metadata": {},
   "source": [
    "## Inserting values to the tables\n",
    "\n",
    "The next step is to add some records to the tables. Again we use execute_query to feed our existing SQL commands into the Server. Let's again start with the Teacher table."
   ]
  },
  {
   "cell_type": "code",
   "execution_count": 19,
   "id": "94f55826",
   "metadata": {},
   "outputs": [
    {
     "name": "stdout",
     "output_type": "stream",
     "text": [
      "MySQL Database connection successful\n",
      "Query successful\n"
     ]
    }
   ],
   "source": [
    "pop_employee = \"\"\"\n",
    "INSERT INTO employees VALUES\n",
    "(1, 'Raju', 'Rathi', '1999-02-20', 'M', '1977-06-14'),\n",
    "(2, 'Shyam', 'Naik', '2007-11-08', 'M', '1985-11-01'), \n",
    "(3, 'Baburao', 'Apte', '2014-06-11', 'M', '1984-02-01'),\n",
    "(4, 'Anjali', 'Pande', '2000-08-23', 'F', '1978-05-19'),\n",
    "(5, 'Abhilasha', 'Mohite', '2020-03-30', 'F', '1994-01-17'),\n",
    "(6, 'Suresh', 'Kadam', '1999-02-21', 'M', '1977-08-21'),\n",
    "(7, 'Manish', 'Joshi', '2014-06-11', 'M', '1992-09-29'),\n",
    "(8, 'Radha',  'Marathe', '2020-03-29', 'F', '1988-11-22')\n",
    "\"\"\"\n",
    "\n",
    "connection = create_db_connection(\"localhost\", \"root\", '1234', 'company')\n",
    "execute_query(connection, pop_employee)"
   ]
  },
  {
   "cell_type": "markdown",
   "id": "0e90c5ed",
   "metadata": {},
   "source": [
    "Does this work? We can check again in our MySQL Command Line Client:\n",
    "\n",
    "![](images/employess_table.png)\n",
    "\n",
    "Now let's insert values into the remaining tables."
   ]
  },
  {
   "cell_type": "code",
   "execution_count": 12,
   "id": "0c2bd82e",
   "metadata": {},
   "outputs": [],
   "source": [
    "from datetime import datetime,date"
   ]
  },
  {
   "cell_type": "code",
   "execution_count": 13,
   "id": "c9bf50e6",
   "metadata": {},
   "outputs": [
    {
     "name": "stdout",
     "output_type": "stream",
     "text": [
      "MySQL Database connection successful\n",
      "Query successful\n",
      "Query successful\n",
      "Query successful\n"
     ]
    }
   ],
   "source": [
    "pop_dept = \"\"\"\n",
    "INSERT INTO departments VALUES\n",
    "('HR01', 'Human Resources'),\n",
    "('SFT01', 'S.Development'),\n",
    "('SFT02', 'S.Testing'),\n",
    "('MKT01', 'Marketing')\n",
    "\"\"\"\n",
    "\n",
    "\n",
    "pop_manager = \"\"\"\n",
    "INSERT INTO dept_manager VALUES\n",
    "(2, 'SFT01','2008-12-20','2012-03-19'),\n",
    "(3, 'MKT01', '2014-06-11', '2020-10-04'),\n",
    "(6, 'SFT02', '2002-04-07','2004-11-10'),\n",
    "(8, 'HR01', '2020-03-29','2022-03-03')\n",
    "\"\"\" \n",
    "    \n",
    "\n",
    "pop_title = \"\"\"\n",
    "INSERT INTO titles VALUES\n",
    "(1,'Sr.Soft.Developer','2002-12-06', '2007-07-18'),\n",
    "(2,'Soft.Developer Mngr.','2008-12-20', '2012-03-19'),\n",
    "(3,'Marketing Mngr','2014-06-11', '2020-10-04'),\n",
    "(4,'Soft.Tester','2000-08-23', '2005-12-03'),\n",
    "(5,'HR Staff','2020-03-30','2021-10-09'),\n",
    "(6,'Soft.Tester Mngr','2002-12-06','2004-11-10'),\n",
    "(7,'Marketing Staff','2014-06-11','2016-12-04'),\n",
    "(8,'HR Manager','2020-03-29','2022-03-03')\n",
    "\"\"\"\n",
    "    \n",
    "    \n",
    "connection = create_db_connection(\"localhost\", \"root\", '1234', 'company')\n",
    "\n",
    "execute_query(connection, pop_dept)\n",
    "execute_query(connection, pop_manager)\n",
    "execute_query(connection, pop_title)"
   ]
  },
  {
   "cell_type": "markdown",
   "id": "bbc29732",
   "metadata": {},
   "source": [
    "## Inserting values in the form of Lists"
   ]
  },
  {
   "cell_type": "code",
   "execution_count": 14,
   "id": "9696768d",
   "metadata": {},
   "outputs": [],
   "source": [
    "def execute_list_query(connection, sql, val):\n",
    "    cursor = connection.cursor()\n",
    "    try:\n",
    "        cursor.executemany(sql, val)\n",
    "        connection.commit()\n",
    "        print(\"Query successful\")\n",
    "    except Error as err:\n",
    "        print(f\"Error: '{err}'\")"
   ]
  },
  {
   "cell_type": "code",
   "execution_count": null,
   "id": "2df4d989",
   "metadata": {},
   "outputs": [],
   "source": [
    "pop_salary = \"\"\"INSERT INTO salaries (emp_no, salary, from_date, to_date) VALUES (%s, %s, %s, %s)\"\"\"\n",
    "\n",
    "today = datetime.now().date()\n",
    "\n",
    "sal_data = [(1, 1234567, '1999-02-20', today.isoformat()),\n",
    "(2, 2345678, '2007-11-08', today.isoformat()),\n",
    "(3, 3456789, '2014-06-11', today.isoformat()),\n",
    "(4, 4567890, '2000-08-23', today.isoformat()),\n",
    "(5, 5678901, '2020-03-30', today.isoformat()),\n",
    "(6, 6789012, '1999-02-21', today.isoformat()),\n",
    "(7, 7890123, '2014-06-11', today.isoformat()),\n",
    "(8, 8901234, '2020-03-29', today.isoformat())]\n",
    "    \n",
    "pop_deptemp = \"\"\"INSERT INTO dept_emp (emp_no, dept_no, from_date, to_date) VALUES (%s, %s, %s, %s)\"\"\"\n",
    "\n",
    "deptemp_data = [(1, 'SFT01','1999-02-20', today.isoformat()),\n",
    "(2, 'SFT01','2007-11-08',today.isoformat()),\n",
    "(3, 'MKT01','2014-06-11',today.isoformat()),\n",
    "(4, 'SFT02','2000-08-23',today.isoformat()),\n",
    "(5, 'HR01','2020-03-30',today.isoformat()),\n",
    "(6, 'SFT02','1999-02-21',today.isoformat()),\n",
    "(7, 'MKT01','2014-06-11',today.isoformat()),\n",
    "(8, 'HR01','2020-03-29',today.isoformat())]"
   ]
  },
  {
   "cell_type": "markdown",
   "id": "0073900c",
   "metadata": {},
   "source": [
    "We saw when inserting values to our tables that we can use the **SQL INSERT** command in our `execute_query` function.\n",
    "\n",
    "Given that we're using Python to manipulate our SQL database, it would be useful to be able to take a Python data structure (such as a list) and insert that directly into our tables.\n",
    "\n",
    "This could be useful when we want to use some variables from Python, or input from users, for example. There are as many possible uses for this as you can think of.  \n",
    "\n",
    "This method is also more secure if our database is open to our users at any point, as it helps to prevent against [SQL Injection attacks](https://portswigger.net/web-security/sql-injection), which can damage or even destroy our whole database.\n",
    "\n",
    "To do this, we will write a function using the `.executemany()` method, instead of the simpler execute() method we have been using thus far."
   ]
  },
  {
   "cell_type": "code",
   "execution_count": 15,
   "id": "01361629",
   "metadata": {},
   "outputs": [
    {
     "name": "stdout",
     "output_type": "stream",
     "text": [
      "MySQL Database connection successful\n",
      "Query successful\n",
      "Query successful\n"
     ]
    }
   ],
   "source": [
    "connection = create_db_connection(\"localhost\", \"root\", '1234', 'company')\n",
    "execute_list_query(connection, pop_salary, sal_data)\n",
    "execute_list_query(connection, pop_deptemp, deptemp_data)"
   ]
  },
  {
   "cell_type": "markdown",
   "id": "707ddff0",
   "metadata": {},
   "source": [
    "Amazing! Now we have created a database complete with relations, constraints and records in MySQL, using nothing but Python commands.\n",
    "\n",
    "## Reading Data\n",
    "\n",
    "Now we have a functional database to work with. As a Data Analyst, you are likely to come into contact with existing databases in the organisations where you work. It will be very useful to know how to pull data out of those databases so it can then be fed into your python data pipeline. This is what we are going to work on next.\n",
    "\n",
    "For this, we will need one more function, this time using cursor.fetchall() instead of cursor.commit(). With this function, we are reading data from the database and will not be making any changes."
   ]
  },
  {
   "cell_type": "code",
   "execution_count": 16,
   "id": "28deae05",
   "metadata": {},
   "outputs": [],
   "source": [
    "def read_query(connection, query):\n",
    "    cursor = connection.cursor()\n",
    "    result = None\n",
    "    try:\n",
    "        cursor.execute(query)\n",
    "        result = cursor.fetchall()\n",
    "        return result\n",
    "    except Error as err:\n",
    "        print(f\"Error: '{err}'\")"
   ]
  },
  {
   "cell_type": "code",
   "execution_count": 17,
   "id": "bfca3451",
   "metadata": {},
   "outputs": [
    {
     "name": "stdout",
     "output_type": "stream",
     "text": [
      "MySQL Database connection successful\n",
      "(1, 'Raju', 'Rathi', '1999-02-20', 'M', '1977-06-14')\n",
      "(2, 'Shyam', 'Naik', '2007-11-08', 'M', '1985-11-01')\n",
      "(3, 'Baburao', 'Apte', '2014-06-11', 'M', '1984-02-01')\n",
      "(4, 'Anjali', 'Pande', '2000-08-23', 'F', '1978-05-19')\n",
      "(5, 'Abhilasha', 'Mohite', '2020-03-30', 'F', '1994-01-17')\n",
      "(6, 'Suresh', 'Kadam', '1999-02-21', 'M', '1977-08-21')\n",
      "(7, 'Manish', 'Joshi', '2014-06-11', 'M', '1992-09-29')\n",
      "(8, 'Radha', 'Marathe', '2020-03-29', 'F', '1988-11-22')\n"
     ]
    }
   ],
   "source": [
    "q1 = \"\"\"\n",
    "SELECT *\n",
    "FROM employees;\n",
    "\"\"\"\n",
    "\n",
    "connection = create_db_connection(\"localhost\", \"root\", '1234', 'company')\n",
    "results = read_query(connection, q1)\n",
    "\n",
    "for result in results:\n",
    "    print(result)"
   ]
  },
  {
   "cell_type": "code",
   "execution_count": 18,
   "id": "aee23e4a",
   "metadata": {},
   "outputs": [
    {
     "name": "stdout",
     "output_type": "stream",
     "text": [
      "MySQL Database connection successful\n",
      "[('Shyam', 'Naik'), ('Baburao', 'Apte'), ('Suresh', 'Kadam'), ('Radha', 'Marathe')]\n"
     ]
    }
   ],
   "source": [
    "q2 = \"\"\"\n",
    "SELECT employees.first_name, employees.last_name FROM employees JOIN dept_manager ON employees.emp_no = dept_manager.emp_no;\n",
    "\"\"\"\n",
    "\n",
    "connection = create_db_connection(\"localhost\", \"root\", '1234', 'company')\n",
    "results = read_query(connection, q2)\n",
    "\n",
    "print(results)"
   ]
  },
  {
   "cell_type": "code",
   "execution_count": 19,
   "id": "628013f7",
   "metadata": {},
   "outputs": [
    {
     "name": "stdout",
     "output_type": "stream",
     "text": [
      "MySQL Database connection successful\n",
      "[(2, 'Shyam', 'Naik', 'SFT01', 'Soft.Developer Mngr.', '2007-11-08', '2022-03-05', 2345678), (3, 'Baburao', 'Apte', 'MKT01', 'Marketing Mngr', '2014-06-11', '2022-03-05', 3456789), (6, 'Suresh', 'Kadam', 'SFT02', 'Soft.Tester Mngr', '1999-02-21', '2022-03-05', 6789012), (8, 'Radha', 'Marathe', 'HR01', 'HR Manager', '2020-03-29', '2022-03-05', 8901234)]\n"
     ]
    }
   ],
   "source": [
    "q3 = \"\"\"\n",
    "SELECT dept_emp.emp_no, employees.first_name, employees.last_name, dept_manager.dept_no, titles.title, salaries.from_date, salaries.to_date, salaries.salary FROM dept_emp  JOIN dept_manager ON dept_emp.emp_no = dept_manager.emp_no JOIN titles on dept_manager.emp_no = titles.emp_no JOIN employees ON employees.emp_no = dept_manager.emp_no JOIN salaries ON salaries.emp_no = dept_manager.emp_no\"\"\"\n",
    "\n",
    "connection = create_db_connection(\"localhost\", \"root\", '1234', 'company')\n",
    "results = read_query(connection, q3)\n",
    "\n",
    "print(results)"
   ]
  },
  {
   "cell_type": "code",
   "execution_count": 20,
   "id": "0ab0887f",
   "metadata": {},
   "outputs": [
    {
     "data": {
      "text/html": [
       "<div>\n",
       "<style scoped>\n",
       "    .dataframe tbody tr th:only-of-type {\n",
       "        vertical-align: middle;\n",
       "    }\n",
       "\n",
       "    .dataframe tbody tr th {\n",
       "        vertical-align: top;\n",
       "    }\n",
       "\n",
       "    .dataframe thead th {\n",
       "        text-align: right;\n",
       "    }\n",
       "</style>\n",
       "<table border=\"1\" class=\"dataframe\">\n",
       "  <thead>\n",
       "    <tr style=\"text-align: right;\">\n",
       "      <th></th>\n",
       "      <th>Employee_no</th>\n",
       "      <th>First_name</th>\n",
       "      <th>Last_name</th>\n",
       "      <th>Department no.</th>\n",
       "      <th>Job_role</th>\n",
       "      <th>From_date</th>\n",
       "      <th>To_date</th>\n",
       "      <th>Salary</th>\n",
       "    </tr>\n",
       "  </thead>\n",
       "  <tbody>\n",
       "    <tr>\n",
       "      <th>0</th>\n",
       "      <td>2</td>\n",
       "      <td>Shyam</td>\n",
       "      <td>Naik</td>\n",
       "      <td>SFT01</td>\n",
       "      <td>Soft.Developer Mngr.</td>\n",
       "      <td>2007-11-08</td>\n",
       "      <td>2022-03-05</td>\n",
       "      <td>2345678</td>\n",
       "    </tr>\n",
       "    <tr>\n",
       "      <th>1</th>\n",
       "      <td>3</td>\n",
       "      <td>Baburao</td>\n",
       "      <td>Apte</td>\n",
       "      <td>MKT01</td>\n",
       "      <td>Marketing Mngr</td>\n",
       "      <td>2014-06-11</td>\n",
       "      <td>2022-03-05</td>\n",
       "      <td>3456789</td>\n",
       "    </tr>\n",
       "    <tr>\n",
       "      <th>2</th>\n",
       "      <td>6</td>\n",
       "      <td>Suresh</td>\n",
       "      <td>Kadam</td>\n",
       "      <td>SFT02</td>\n",
       "      <td>Soft.Tester Mngr</td>\n",
       "      <td>1999-02-21</td>\n",
       "      <td>2022-03-05</td>\n",
       "      <td>6789012</td>\n",
       "    </tr>\n",
       "    <tr>\n",
       "      <th>3</th>\n",
       "      <td>8</td>\n",
       "      <td>Radha</td>\n",
       "      <td>Marathe</td>\n",
       "      <td>HR01</td>\n",
       "      <td>HR Manager</td>\n",
       "      <td>2020-03-29</td>\n",
       "      <td>2022-03-05</td>\n",
       "      <td>8901234</td>\n",
       "    </tr>\n",
       "  </tbody>\n",
       "</table>\n",
       "</div>"
      ],
      "text/plain": [
       "   Employee_no First_name Last_name Department no.              Job_role  \\\n",
       "0            2      Shyam      Naik          SFT01  Soft.Developer Mngr.   \n",
       "1            3    Baburao      Apte          MKT01        Marketing Mngr   \n",
       "2            6     Suresh     Kadam          SFT02      Soft.Tester Mngr   \n",
       "3            8      Radha   Marathe           HR01            HR Manager   \n",
       "\n",
       "    From_date     To_date   Salary  \n",
       "0  2007-11-08  2022-03-05  2345678  \n",
       "1  2014-06-11  2022-03-05  3456789  \n",
       "2  1999-02-21  2022-03-05  6789012  \n",
       "3  2020-03-29  2022-03-05  8901234  "
      ]
     },
     "execution_count": 20,
     "metadata": {},
     "output_type": "execute_result"
    }
   ],
   "source": [
    "# Returns a list of lists and then creates a pandas DataFrame\n",
    "import pandas as pd\n",
    "\n",
    "columns = [\"Employee_no\", \"First_name\", \"Last_name\", \"Department no.\", \"Job_role\", \"From_date\", \"To_date\", \"Salary\"]\n",
    "df = pd.DataFrame(results, columns=columns)\n",
    "\n",
    "df.head()"
   ]
  },
  {
   "cell_type": "markdown",
   "id": "2998120d",
   "metadata": {},
   "source": [
    "Hopefully you can see the possibilities unfolding in front of you here. With just a few lines of code, we can easily extract all the data we can handle from the relational databases where it lives, and pull it into our state-of-the-art data analytics pipelines. This is really helpful stuff.\n",
    "\n"
   ]
  }
 ],
 "metadata": {
  "kernelspec": {
   "display_name": "Python 3 (ipykernel)",
   "language": "python",
   "name": "python3"
  },
  "language_info": {
   "codemirror_mode": {
    "name": "ipython",
    "version": 3
   },
   "file_extension": ".py",
   "mimetype": "text/x-python",
   "name": "python",
   "nbconvert_exporter": "python",
   "pygments_lexer": "ipython3",
   "version": "3.11.5"
  },
  "toc": {
   "base_numbering": 1,
   "nav_menu": {},
   "number_sections": true,
   "sideBar": true,
   "skip_h1_title": false,
   "title_cell": "Table of Contents",
   "title_sidebar": "Contents",
   "toc_cell": false,
   "toc_position": {},
   "toc_section_display": true,
   "toc_window_display": false
  }
 },
 "nbformat": 4,
 "nbformat_minor": 5
}
